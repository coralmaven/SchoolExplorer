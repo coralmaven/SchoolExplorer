{
 "cells": [
  {
   "cell_type": "markdown",
   "metadata": {},
   "source": [
    "# HeatMaps\n",
    "#### Generate heatmaps using the population census and school enrollment numbers\n",
    "#### author : suchita mujumdar"
   ]
  },
  {
   "cell_type": "code",
   "execution_count": 1,
   "metadata": {},
   "outputs": [],
   "source": [
    "# Dependencies\n",
    "#https://github.com/datamade/census\n",
    "from census import Census\n",
    "from keys import censusKey\n",
    "from keys import googleKey\n",
    "\n",
    "import gmaps\n",
    "import numpy as np\n",
    "import pandas as pd\n",
    "import requests\n",
    "import time\n",
    "from us import states\n"
   ]
  },
  {
   "cell_type": "code",
   "execution_count": 2,
   "metadata": {},
   "outputs": [],
   "source": [
    "df_full = pd.read_csv('data/AustinSchools.csv')"
   ]
  },
  {
   "cell_type": "code",
   "execution_count": 3,
   "metadata": {},
   "outputs": [
    {
     "data": {
      "text/plain": [
       "Index(['Unnamed: 0', 'gsId', 'name', 'type', 'gradeRange', 'enrollment',\n",
       "       'gsRating', 'parentRating', 'city', 'state', 'districtId', 'district',\n",
       "       'districtNCESId', 'address', 'phone', 'fax', 'website', 'ncesId', 'lat',\n",
       "       'lon', 'schoolName', 'latitude', 'longitude', 'headOfficialName',\n",
       "       'freeAndReducedPriceLunch', 'idea', 'plan504',\n",
       "       'percentTeachersInFirstSecondYear', 'White, non-Hispanic',\n",
       "       'Black, non-Hispanic', 'Hispanic', 'Multiracial', 'Asian',\n",
       "       'Native American or Native Alaskan',\n",
       "       'Native Hawaiian or Other Pacific Islander'],\n",
       "      dtype='object')"
      ]
     },
     "execution_count": 3,
     "metadata": {},
     "output_type": "execute_result"
    }
   ],
   "source": [
    "df_full.columns"
   ]
  },
  {
   "cell_type": "markdown",
   "metadata": {},
   "source": [
    "#### Create a dataset with only the columns that we need"
   ]
  },
  {
   "cell_type": "code",
   "execution_count": 4,
   "metadata": {},
   "outputs": [
    {
     "data": {
      "text/html": [
       "<div>\n",
       "<style scoped>\n",
       "    .dataframe tbody tr th:only-of-type {\n",
       "        vertical-align: middle;\n",
       "    }\n",
       "\n",
       "    .dataframe tbody tr th {\n",
       "        vertical-align: top;\n",
       "    }\n",
       "\n",
       "    .dataframe thead th {\n",
       "        text-align: right;\n",
       "    }\n",
       "</style>\n",
       "<table border=\"1\" class=\"dataframe\">\n",
       "  <thead>\n",
       "    <tr style=\"text-align: right;\">\n",
       "      <th></th>\n",
       "      <th>schoolName</th>\n",
       "      <th>latitude</th>\n",
       "      <th>longitude</th>\n",
       "      <th>enrollment</th>\n",
       "      <th>type</th>\n",
       "    </tr>\n",
       "  </thead>\n",
       "  <tbody>\n",
       "    <tr>\n",
       "      <th>0</th>\n",
       "      <td>Blackshear Elementary School</td>\n",
       "      <td>30.266968</td>\n",
       "      <td>-97.722170</td>\n",
       "      <td>302.0</td>\n",
       "      <td>public</td>\n",
       "    </tr>\n",
       "    <tr>\n",
       "      <th>1</th>\n",
       "      <td>Bryker Woods Elementary School</td>\n",
       "      <td>30.304869</td>\n",
       "      <td>-97.750626</td>\n",
       "      <td>400.0</td>\n",
       "      <td>public</td>\n",
       "    </tr>\n",
       "    <tr>\n",
       "      <th>2</th>\n",
       "      <td>Casis Elementary School</td>\n",
       "      <td>30.304344</td>\n",
       "      <td>-97.765050</td>\n",
       "      <td>793.0</td>\n",
       "      <td>public</td>\n",
       "    </tr>\n",
       "    <tr>\n",
       "      <th>3</th>\n",
       "      <td>Maplewood Elementary School</td>\n",
       "      <td>30.293337</td>\n",
       "      <td>-97.714905</td>\n",
       "      <td>480.0</td>\n",
       "      <td>public</td>\n",
       "    </tr>\n",
       "    <tr>\n",
       "      <th>4</th>\n",
       "      <td>Mathews Elementary School</td>\n",
       "      <td>30.278215</td>\n",
       "      <td>-97.760796</td>\n",
       "      <td>425.0</td>\n",
       "      <td>public</td>\n",
       "    </tr>\n",
       "  </tbody>\n",
       "</table>\n",
       "</div>"
      ],
      "text/plain": [
       "                       schoolName   latitude  longitude  enrollment    type\n",
       "0    Blackshear Elementary School  30.266968 -97.722170       302.0  public\n",
       "1  Bryker Woods Elementary School  30.304869 -97.750626       400.0  public\n",
       "2         Casis Elementary School  30.304344 -97.765050       793.0  public\n",
       "3     Maplewood Elementary School  30.293337 -97.714905       480.0  public\n",
       "4       Mathews Elementary School  30.278215 -97.760796       425.0  public"
      ]
     },
     "execution_count": 4,
     "metadata": {},
     "output_type": "execute_result"
    }
   ],
   "source": [
    "df = df_full[['schoolName', 'latitude', 'longitude','enrollment','type']]\n",
    "df.head()"
   ]
  },
  {
   "cell_type": "code",
   "execution_count": 5,
   "metadata": {},
   "outputs": [
    {
     "data": {
      "text/plain": [
       "public     197\n",
       "private    100\n",
       "charter     52\n",
       "Name: type, dtype: int64"
      ]
     },
     "execution_count": 5,
     "metadata": {},
     "output_type": "execute_result"
    }
   ],
   "source": [
    "df['type'].value_counts()"
   ]
  },
  {
   "cell_type": "code",
   "execution_count": 6,
   "metadata": {},
   "outputs": [
    {
     "data": {
      "text/plain": [
       "schoolName     object\n",
       "latitude      float64\n",
       "longitude     float64\n",
       "enrollment    float64\n",
       "type           object\n",
       "dtype: object"
      ]
     },
     "execution_count": 6,
     "metadata": {},
     "output_type": "execute_result"
    }
   ],
   "source": [
    "df.dtypes"
   ]
  },
  {
   "cell_type": "code",
   "execution_count": 7,
   "metadata": {},
   "outputs": [
    {
     "data": {
      "text/plain": [
       "count     310.000000\n",
       "mean      568.248387\n",
       "std       490.360530\n",
       "min         0.000000\n",
       "25%       253.250000\n",
       "50%       508.500000\n",
       "75%       749.250000\n",
       "max      2912.000000\n",
       "Name: enrollment, dtype: float64"
      ]
     },
     "execution_count": 7,
     "metadata": {},
     "output_type": "execute_result"
    }
   ],
   "source": [
    "df[\"enrollment\"].describe()"
   ]
  },
  {
   "cell_type": "code",
   "execution_count": 8,
   "metadata": {},
   "outputs": [
    {
     "name": "stderr",
     "output_type": "stream",
     "text": [
      "/anaconda3/envs/projectOne/lib/python3.6/site-packages/ipykernel_launcher.py:2: SettingWithCopyWarning: \n",
      "A value is trying to be set on a copy of a slice from a DataFrame.\n",
      "Try using .loc[row_indexer,col_indexer] = value instead\n",
      "\n",
      "See the caveats in the documentation: http://pandas.pydata.org/pandas-docs/stable/indexing.html#indexing-view-versus-copy\n",
      "  \n"
     ]
    }
   ],
   "source": [
    "# Add in Percent enrollment (School enrollment / Total enrollment)\n",
    "df[\"Percent enrollment\"] = 100 * df[\"enrollment\"] / df[\"enrollment\"].sum()"
   ]
  },
  {
   "cell_type": "code",
   "execution_count": 9,
   "metadata": {},
   "outputs": [
    {
     "data": {
      "text/plain": [
       "count    310.000000\n",
       "mean       0.322581\n",
       "std        0.278366\n",
       "min        0.000000\n",
       "25%        0.143764\n",
       "50%        0.288663\n",
       "75%        0.425331\n",
       "max        1.653071\n",
       "Name: Percent enrollment, dtype: float64"
      ]
     },
     "execution_count": 9,
     "metadata": {},
     "output_type": "execute_result"
    }
   ],
   "source": [
    "df[\"Percent enrollment\"].describe()"
   ]
  },
  {
   "cell_type": "code",
   "execution_count": 10,
   "metadata": {},
   "outputs": [
    {
     "data": {
      "text/html": [
       "<div>\n",
       "<style scoped>\n",
       "    .dataframe tbody tr th:only-of-type {\n",
       "        vertical-align: middle;\n",
       "    }\n",
       "\n",
       "    .dataframe tbody tr th {\n",
       "        vertical-align: top;\n",
       "    }\n",
       "\n",
       "    .dataframe thead th {\n",
       "        text-align: right;\n",
       "    }\n",
       "</style>\n",
       "<table border=\"1\" class=\"dataframe\">\n",
       "  <thead>\n",
       "    <tr style=\"text-align: right;\">\n",
       "      <th></th>\n",
       "      <th>schoolName</th>\n",
       "      <th>latitude</th>\n",
       "      <th>longitude</th>\n",
       "      <th>enrollment</th>\n",
       "      <th>type</th>\n",
       "      <th>Percent enrollment</th>\n",
       "    </tr>\n",
       "  </thead>\n",
       "  <tbody>\n",
       "    <tr>\n",
       "      <th>0</th>\n",
       "      <td>Blackshear Elementary School</td>\n",
       "      <td>30.266968</td>\n",
       "      <td>-97.722170</td>\n",
       "      <td>302.0</td>\n",
       "      <td>public</td>\n",
       "      <td>0.171438</td>\n",
       "    </tr>\n",
       "    <tr>\n",
       "      <th>1</th>\n",
       "      <td>Bryker Woods Elementary School</td>\n",
       "      <td>30.304869</td>\n",
       "      <td>-97.750626</td>\n",
       "      <td>400.0</td>\n",
       "      <td>public</td>\n",
       "      <td>0.227070</td>\n",
       "    </tr>\n",
       "    <tr>\n",
       "      <th>2</th>\n",
       "      <td>Casis Elementary School</td>\n",
       "      <td>30.304344</td>\n",
       "      <td>-97.765050</td>\n",
       "      <td>793.0</td>\n",
       "      <td>public</td>\n",
       "      <td>0.450167</td>\n",
       "    </tr>\n",
       "    <tr>\n",
       "      <th>3</th>\n",
       "      <td>Maplewood Elementary School</td>\n",
       "      <td>30.293337</td>\n",
       "      <td>-97.714905</td>\n",
       "      <td>480.0</td>\n",
       "      <td>public</td>\n",
       "      <td>0.272484</td>\n",
       "    </tr>\n",
       "    <tr>\n",
       "      <th>4</th>\n",
       "      <td>Mathews Elementary School</td>\n",
       "      <td>30.278215</td>\n",
       "      <td>-97.760796</td>\n",
       "      <td>425.0</td>\n",
       "      <td>public</td>\n",
       "      <td>0.241262</td>\n",
       "    </tr>\n",
       "  </tbody>\n",
       "</table>\n",
       "</div>"
      ],
      "text/plain": [
       "                       schoolName   latitude  longitude  enrollment    type  \\\n",
       "0    Blackshear Elementary School  30.266968 -97.722170       302.0  public   \n",
       "1  Bryker Woods Elementary School  30.304869 -97.750626       400.0  public   \n",
       "2         Casis Elementary School  30.304344 -97.765050       793.0  public   \n",
       "3     Maplewood Elementary School  30.293337 -97.714905       480.0  public   \n",
       "4       Mathews Elementary School  30.278215 -97.760796       425.0  public   \n",
       "\n",
       "   Percent enrollment  \n",
       "0            0.171438  \n",
       "1            0.227070  \n",
       "2            0.450167  \n",
       "3            0.272484  \n",
       "4            0.241262  "
      ]
     },
     "execution_count": 10,
     "metadata": {},
     "output_type": "execute_result"
    }
   ],
   "source": [
    "df.head()"
   ]
  },
  {
   "cell_type": "code",
   "execution_count": 11,
   "metadata": {},
   "outputs": [],
   "source": [
    "# Configure gmaps\n",
    "gmaps.configure(api_key=googleKey.gkey)"
   ]
  },
  {
   "cell_type": "code",
   "execution_count": 13,
   "metadata": {},
   "outputs": [
    {
     "data": {
      "application/vnd.jupyter.widget-view+json": {
       "model_id": "fba3bd78b4cf4ac2bb7b85b078363dd0",
       "version_major": 2,
       "version_minor": 0
      },
      "text/plain": [
       "Figure(layout=FigureLayout(border='1px solid black', height='1000px', padding='1px', width='1000px'))"
      ]
     },
     "metadata": {},
     "output_type": "display_data"
    }
   ],
   "source": [
    "figure_layout = {\n",
    "'width': '1000px',\n",
    "'height': '1000px',\n",
    "'border': '1px solid black',\n",
    "'padding': '1px'\n",
    "}\n",
    "fig = gmaps.figure(layout=figure_layout)\n",
    "fig"
   ]
  },
  {
   "cell_type": "code",
   "execution_count": 14,
   "metadata": {},
   "outputs": [
    {
     "data": {
      "application/vnd.jupyter.widget-view+json": {
       "model_id": "a9baed3607fa4a7f96e6c08aadb1c6ed",
       "version_major": 2,
       "version_minor": 0
      },
      "text/plain": [
       "Figure(layout=FigureLayout(border='1px solid black', height='1000px', padding='1px', width='1000px'))"
      ]
     },
     "metadata": {},
     "output_type": "display_data"
    }
   ],
   "source": [
    "fig = gmaps.figure(layout=figure_layout)\n",
    "public_schools = df[df['type'] == 'public']\n",
    "public_schools_locations = public_schools[['latitude', 'longitude']]\n",
    "public_schools_layer = gmaps.symbol_layer( public_schools_locations, \n",
    "    info_box_content=public_schools['schoolName'],\n",
    "    fill_color='red', stroke_color='red', scale=2)\n",
    "fig.add_layer(public_schools_layer)\n",
    "public_school_student_enrollment = gmaps.heatmap_layer(public_schools_locations,\n",
    "                        weights=public_schools['Percent enrollment'],\n",
    "                        max_intensity=1.7, point_radius=0.01,dissipating=False)\n",
    "\n",
    "fig.add_layer(public_school_student_enrollment)\n",
    "fig"
   ]
  },
  {
   "cell_type": "code",
   "execution_count": 68,
   "metadata": {},
   "outputs": [
    {
     "data": {
      "application/vnd.jupyter.widget-view+json": {
       "model_id": "810b750b113d4e4bb3eee84c773b0e99",
       "version_major": 2,
       "version_minor": 0
      },
      "text/plain": [
       "Figure(layout=FigureLayout(border='1px solid black', height='1000px', padding='1px', width='1000px'))"
      ]
     },
     "metadata": {},
     "output_type": "display_data"
    }
   ],
   "source": [
    "fig2 = gmaps.figure(layout=figure_layout)\n",
    "private_schools = df[df['type'] == 'private']\n",
    "private_schools_locations = private_schools[['latitude', 'longitude']]\n",
    "private_schools_layer = gmaps.symbol_layer(private_school_locations, \n",
    "    #info_box_content=private_schools['schoolName'], \n",
    "    fill_color='lime', stroke_color='red', scale=2)\n",
    "\n",
    "fig2.add_layer(private_schools_layer)\n",
    "private_school_student_enrollment = gmaps.heatmap_layer(private_school_locations,\n",
    "                        weights=private_schools['Percent enrollment'],\n",
    "                        max_intensity=1.7, point_radius=0.01,dissipating=False)\n",
    "fig2.add_layer(private_school_student_enrollment)\n",
    "fig2"
   ]
  },
  {
   "cell_type": "code",
   "execution_count": 69,
   "metadata": {},
   "outputs": [
    {
     "data": {
      "application/vnd.jupyter.widget-view+json": {
       "model_id": "239557c1b2ec47dab095c772ffe91771",
       "version_major": 2,
       "version_minor": 0
      },
      "text/plain": [
       "Figure(layout=FigureLayout(border='1px solid black', height='1000px', padding='1px', width='1000px'))"
      ]
     },
     "metadata": {},
     "output_type": "display_data"
    }
   ],
   "source": [
    "fig3 = gmaps.figure(layout=figure_layout)\n",
    "charter_schools = df[df['type'] == 'charter']\n",
    "charter_schools_locations = charter_schools[['latitude', 'longitude']]\n",
    "charter_schools_layer = gmaps.symbol_layer(\n",
    "charter_schools_locations, fill_color='purple', stroke_color='purple', scale=2\n",
    ")\n",
    "fig3.add_layer(charter_schools_layer)\n",
    "charter_school_student_enrollment = gmaps.heatmap_layer(charter_schools_locations,\n",
    "                        weights=charter_schools['Percent enrollment'],\n",
    "                        max_intensity=1.7, point_radius=0.01,dissipating=False)\n",
    "fig3.add_layer(charter_school_student_enrollment)\n",
    "fig3"
   ]
  },
  {
   "cell_type": "markdown",
   "metadata": {},
   "source": [
    "#### Create a dataset for the total population in Austin in the different zip codes using the census API"
   ]
  },
  {
   "cell_type": "code",
   "execution_count": 24,
   "metadata": {},
   "outputs": [],
   "source": [
    "# Census API Key\n",
    "c = Census(censusKey.census_key, 2017)\n",
    "# Run Census Search to retrieve data on all zip codes (2013 ACS5 Census)\n",
    "# See: https://github.com/CommerceDataService/census-wrapper for library documentation\n",
    "# See: https://gist.github.com/afhaque/60558290d6efd892351c4b64e5c01e9b for labels\n",
    "# B01003_001E  Total Population\n",
    "\n",
    "census_data = c.acs5.get(('NAME',\"B01003_001E\"), {'for': 'zip code tabulation area:*'})\n"
   ]
  },
  {
   "cell_type": "code",
   "execution_count": 25,
   "metadata": {},
   "outputs": [],
   "source": [
    "# Convert to DataFrame\n",
    "census_pd = pd.DataFrame(census_data)"
   ]
  },
  {
   "cell_type": "code",
   "execution_count": 26,
   "metadata": {},
   "outputs": [],
   "source": [
    "# Column Reordering\n",
    "del(census_pd['NAME'])\n",
    "census_pd = census_pd.rename(columns={\"B01003_001E\": \"Population\",\n",
    "                                      \"zip code tabulation area\": \"Zipcode\"})"
   ]
  },
  {
   "cell_type": "code",
   "execution_count": 27,
   "metadata": {},
   "outputs": [],
   "source": [
    "census_pd[\"Zipcode\"] = pd.to_numeric(census_pd[\"Zipcode\"],errors='coerce')"
   ]
  },
  {
   "cell_type": "code",
   "execution_count": 28,
   "metadata": {},
   "outputs": [
    {
     "data": {
      "text/html": [
       "<div>\n",
       "<style scoped>\n",
       "    .dataframe tbody tr th:only-of-type {\n",
       "        vertical-align: middle;\n",
       "    }\n",
       "\n",
       "    .dataframe tbody tr th {\n",
       "        vertical-align: top;\n",
       "    }\n",
       "\n",
       "    .dataframe thead th {\n",
       "        text-align: right;\n",
       "    }\n",
       "</style>\n",
       "<table border=\"1\" class=\"dataframe\">\n",
       "  <thead>\n",
       "    <tr style=\"text-align: right;\">\n",
       "      <th></th>\n",
       "      <th>Population</th>\n",
       "      <th>Zipcode</th>\n",
       "    </tr>\n",
       "  </thead>\n",
       "  <tbody>\n",
       "    <tr>\n",
       "      <th>0</th>\n",
       "      <td>17599.0</td>\n",
       "      <td>601</td>\n",
       "    </tr>\n",
       "    <tr>\n",
       "      <th>1</th>\n",
       "      <td>39209.0</td>\n",
       "      <td>602</td>\n",
       "    </tr>\n",
       "    <tr>\n",
       "      <th>2</th>\n",
       "      <td>50135.0</td>\n",
       "      <td>603</td>\n",
       "    </tr>\n",
       "    <tr>\n",
       "      <th>3</th>\n",
       "      <td>6304.0</td>\n",
       "      <td>606</td>\n",
       "    </tr>\n",
       "    <tr>\n",
       "      <th>4</th>\n",
       "      <td>27590.0</td>\n",
       "      <td>610</td>\n",
       "    </tr>\n",
       "  </tbody>\n",
       "</table>\n",
       "</div>"
      ],
      "text/plain": [
       "   Population  Zipcode\n",
       "0     17599.0      601\n",
       "1     39209.0      602\n",
       "2     50135.0      603\n",
       "3      6304.0      606\n",
       "4     27590.0      610"
      ]
     },
     "execution_count": 28,
     "metadata": {},
     "output_type": "execute_result"
    }
   ],
   "source": [
    "census_pd.head()"
   ]
  },
  {
   "cell_type": "code",
   "execution_count": 29,
   "metadata": {},
   "outputs": [],
   "source": [
    "# All austin area zipcodes\n",
    "\n",
    "zipcodes = [78610, 78613, 78617, 78641, 78652, 78653, 78660, 78664, 78681, \n",
    "            78701, 78702, 78703, 78704, 78705, 78712, 78717, 78719, 78721, \n",
    "            78722, 78723, 78724, 78725, 78726, 78727, 78728, 78729, 78730,\n",
    "            78731, 78732, 78733, 78734, 78735, 78736, 78737, 78738, 78739,\n",
    "            78741, 78742, 78744, 78745, 78746, 78747, 78748, 78749, 78750, \n",
    "            78751, 78752, 78753, 78754, 78756, 78757, 78758, 78759]\n",
    "\n",
    "#Read more: http://www.city-data.com/zipmaps/Austin-Texas.html\n"
   ]
  },
  {
   "cell_type": "code",
   "execution_count": 30,
   "metadata": {},
   "outputs": [],
   "source": [
    "austin_pd = census_pd[census_pd['Zipcode'].isin(zipcodes)]"
   ]
  },
  {
   "cell_type": "code",
   "execution_count": 31,
   "metadata": {},
   "outputs": [
    {
     "data": {
      "text/html": [
       "<div>\n",
       "<style scoped>\n",
       "    .dataframe tbody tr th:only-of-type {\n",
       "        vertical-align: middle;\n",
       "    }\n",
       "\n",
       "    .dataframe tbody tr th {\n",
       "        vertical-align: top;\n",
       "    }\n",
       "\n",
       "    .dataframe thead th {\n",
       "        text-align: right;\n",
       "    }\n",
       "</style>\n",
       "<table border=\"1\" class=\"dataframe\">\n",
       "  <thead>\n",
       "    <tr style=\"text-align: right;\">\n",
       "      <th></th>\n",
       "      <th>index</th>\n",
       "      <th>Population</th>\n",
       "      <th>Zipcode</th>\n",
       "    </tr>\n",
       "  </thead>\n",
       "  <tbody>\n",
       "    <tr>\n",
       "      <th>0</th>\n",
       "      <td>27315</td>\n",
       "      <td>32692.0</td>\n",
       "      <td>78610</td>\n",
       "    </tr>\n",
       "    <tr>\n",
       "      <th>1</th>\n",
       "      <td>27318</td>\n",
       "      <td>77779.0</td>\n",
       "      <td>78613</td>\n",
       "    </tr>\n",
       "    <tr>\n",
       "      <th>2</th>\n",
       "      <td>27322</td>\n",
       "      <td>27900.0</td>\n",
       "      <td>78617</td>\n",
       "    </tr>\n",
       "    <tr>\n",
       "      <th>3</th>\n",
       "      <td>27342</td>\n",
       "      <td>60135.0</td>\n",
       "      <td>78641</td>\n",
       "    </tr>\n",
       "    <tr>\n",
       "      <th>4</th>\n",
       "      <td>27349</td>\n",
       "      <td>4965.0</td>\n",
       "      <td>78652</td>\n",
       "    </tr>\n",
       "  </tbody>\n",
       "</table>\n",
       "</div>"
      ],
      "text/plain": [
       "   index  Population  Zipcode\n",
       "0  27315     32692.0    78610\n",
       "1  27318     77779.0    78613\n",
       "2  27322     27900.0    78617\n",
       "3  27342     60135.0    78641\n",
       "4  27349      4965.0    78652"
      ]
     },
     "execution_count": 31,
     "metadata": {},
     "output_type": "execute_result"
    }
   ],
   "source": [
    "austin_pd = austin_pd.reset_index()\n",
    "austin_pd.head()"
   ]
  },
  {
   "cell_type": "code",
   "execution_count": 32,
   "metadata": {},
   "outputs": [
    {
     "data": {
      "text/html": [
       "<div>\n",
       "<style scoped>\n",
       "    .dataframe tbody tr th:only-of-type {\n",
       "        vertical-align: middle;\n",
       "    }\n",
       "\n",
       "    .dataframe tbody tr th {\n",
       "        vertical-align: top;\n",
       "    }\n",
       "\n",
       "    .dataframe thead th {\n",
       "        text-align: right;\n",
       "    }\n",
       "</style>\n",
       "<table border=\"1\" class=\"dataframe\">\n",
       "  <thead>\n",
       "    <tr style=\"text-align: right;\">\n",
       "      <th></th>\n",
       "      <th>Zipcode</th>\n",
       "      <th>Population</th>\n",
       "    </tr>\n",
       "  </thead>\n",
       "  <tbody>\n",
       "    <tr>\n",
       "      <th>0</th>\n",
       "      <td>78610</td>\n",
       "      <td>32692.0</td>\n",
       "    </tr>\n",
       "    <tr>\n",
       "      <th>1</th>\n",
       "      <td>78613</td>\n",
       "      <td>77779.0</td>\n",
       "    </tr>\n",
       "    <tr>\n",
       "      <th>2</th>\n",
       "      <td>78617</td>\n",
       "      <td>27900.0</td>\n",
       "    </tr>\n",
       "    <tr>\n",
       "      <th>3</th>\n",
       "      <td>78641</td>\n",
       "      <td>60135.0</td>\n",
       "    </tr>\n",
       "    <tr>\n",
       "      <th>4</th>\n",
       "      <td>78652</td>\n",
       "      <td>4965.0</td>\n",
       "    </tr>\n",
       "  </tbody>\n",
       "</table>\n",
       "</div>"
      ],
      "text/plain": [
       "   Zipcode  Population\n",
       "0    78610     32692.0\n",
       "1    78613     77779.0\n",
       "2    78617     27900.0\n",
       "3    78641     60135.0\n",
       "4    78652      4965.0"
      ]
     },
     "execution_count": 32,
     "metadata": {},
     "output_type": "execute_result"
    }
   ],
   "source": [
    "austin_pd = austin_pd[['Zipcode','Population']]\n",
    "austin_pd.head()"
   ]
  },
  {
   "cell_type": "markdown",
   "metadata": {},
   "source": [
    "#### Get all the zipcode coordinates from a csv\n"
   ]
  },
  {
   "cell_type": "code",
   "execution_count": 33,
   "metadata": {},
   "outputs": [],
   "source": [
    "allcoordinates_df = pd.read_csv('data/coordinates.csv')"
   ]
  },
  {
   "cell_type": "code",
   "execution_count": 34,
   "metadata": {},
   "outputs": [],
   "source": [
    "allcoordinates_df = allcoordinates_df.rename(columns={\"ZIP\":\"Zipcode\"})"
   ]
  },
  {
   "cell_type": "code",
   "execution_count": 35,
   "metadata": {},
   "outputs": [
    {
     "data": {
      "text/plain": [
       "Zipcode      int64\n",
       "LAT        float64\n",
       "LNG        float64\n",
       "dtype: object"
      ]
     },
     "execution_count": 35,
     "metadata": {},
     "output_type": "execute_result"
    }
   ],
   "source": [
    "allcoordinates_df.dtypes"
   ]
  },
  {
   "cell_type": "code",
   "execution_count": 36,
   "metadata": {},
   "outputs": [
    {
     "data": {
      "text/plain": [
       "Zipcode         int64\n",
       "Population    float64\n",
       "dtype: object"
      ]
     },
     "execution_count": 36,
     "metadata": {},
     "output_type": "execute_result"
    }
   ],
   "source": [
    "austin_pd.dtypes"
   ]
  },
  {
   "cell_type": "code",
   "execution_count": 37,
   "metadata": {},
   "outputs": [],
   "source": [
    "AustinZipCo_df = pd.merge(austin_pd, allcoordinates_df, on='Zipcode', how='inner')"
   ]
  },
  {
   "cell_type": "code",
   "execution_count": 38,
   "metadata": {},
   "outputs": [
    {
     "data": {
      "text/plain": [
       "Zipcode       78610.000000\n",
       "Population    32692.000000\n",
       "LAT              30.078514\n",
       "LNG             -97.838012\n",
       "Name: 0, dtype: float64"
      ]
     },
     "execution_count": 38,
     "metadata": {},
     "output_type": "execute_result"
    }
   ],
   "source": [
    "AustinZipCo_df.iloc[0]"
   ]
  },
  {
   "cell_type": "code",
   "execution_count": 40,
   "metadata": {},
   "outputs": [
    {
     "data": {
      "text/html": [
       "<div>\n",
       "<style scoped>\n",
       "    .dataframe tbody tr th:only-of-type {\n",
       "        vertical-align: middle;\n",
       "    }\n",
       "\n",
       "    .dataframe tbody tr th {\n",
       "        vertical-align: top;\n",
       "    }\n",
       "\n",
       "    .dataframe thead th {\n",
       "        text-align: right;\n",
       "    }\n",
       "</style>\n",
       "<table border=\"1\" class=\"dataframe\">\n",
       "  <thead>\n",
       "    <tr style=\"text-align: right;\">\n",
       "      <th></th>\n",
       "      <th>Zipcode</th>\n",
       "      <th>Population</th>\n",
       "      <th>LAT</th>\n",
       "      <th>LNG</th>\n",
       "    </tr>\n",
       "  </thead>\n",
       "  <tbody>\n",
       "    <tr>\n",
       "      <th>0</th>\n",
       "      <td>78610</td>\n",
       "      <td>32692.0</td>\n",
       "      <td>30.078514</td>\n",
       "      <td>-97.838012</td>\n",
       "    </tr>\n",
       "    <tr>\n",
       "      <th>1</th>\n",
       "      <td>78613</td>\n",
       "      <td>77779.0</td>\n",
       "      <td>30.503949</td>\n",
       "      <td>-97.824200</td>\n",
       "    </tr>\n",
       "    <tr>\n",
       "      <th>2</th>\n",
       "      <td>78617</td>\n",
       "      <td>27900.0</td>\n",
       "      <td>30.147375</td>\n",
       "      <td>-97.600145</td>\n",
       "    </tr>\n",
       "    <tr>\n",
       "      <th>3</th>\n",
       "      <td>78641</td>\n",
       "      <td>60135.0</td>\n",
       "      <td>30.562168</td>\n",
       "      <td>-97.907817</td>\n",
       "    </tr>\n",
       "    <tr>\n",
       "      <th>4</th>\n",
       "      <td>78652</td>\n",
       "      <td>4965.0</td>\n",
       "      <td>30.132805</td>\n",
       "      <td>-97.874687</td>\n",
       "    </tr>\n",
       "  </tbody>\n",
       "</table>\n",
       "</div>"
      ],
      "text/plain": [
       "   Zipcode  Population        LAT        LNG\n",
       "0    78610     32692.0  30.078514 -97.838012\n",
       "1    78613     77779.0  30.503949 -97.824200\n",
       "2    78617     27900.0  30.147375 -97.600145\n",
       "3    78641     60135.0  30.562168 -97.907817\n",
       "4    78652      4965.0  30.132805 -97.874687"
      ]
     },
     "execution_count": 40,
     "metadata": {},
     "output_type": "execute_result"
    }
   ],
   "source": [
    "AustinZipCo_df.head()"
   ]
  },
  {
   "cell_type": "code",
   "execution_count": 41,
   "metadata": {},
   "outputs": [],
   "source": [
    "# Add in Percent Population (Zipcode Population / Total Population)\n",
    "AustinZipCo_df[\"Percent Population\"] = 100 * \\\n",
    "    AustinZipCo_df[\"Population\"].astype(\n",
    "        int) / AustinZipCo_df[\"Population\"].sum()\n"
   ]
  },
  {
   "cell_type": "code",
   "execution_count": 42,
   "metadata": {},
   "outputs": [
    {
     "data": {
      "text/plain": [
       "count    53.000000\n",
       "mean      1.886792\n",
       "std       1.323600\n",
       "min       0.034500\n",
       "25%       0.997570\n",
       "50%       1.592082\n",
       "75%       2.499298\n",
       "max       5.702213\n",
       "Name: Percent Population, dtype: float64"
      ]
     },
     "execution_count": 42,
     "metadata": {},
     "output_type": "execute_result"
    }
   ],
   "source": [
    "AustinZipCo_df['Percent Population'].describe()"
   ]
  },
  {
   "cell_type": "markdown",
   "metadata": {},
   "source": [
    "#### A Heat Map for the population in Austin"
   ]
  },
  {
   "cell_type": "code",
   "execution_count": 50,
   "metadata": {},
   "outputs": [],
   "source": [
    "# Store 'Lat' and 'Lng' into  locations \n",
    "locations = AustinZipCo_df[[\"LAT\", \"LNG\"]].astype(float)\n",
    "\n",
    "# Convert Population to float and store\n",
    "# HINT: be sure to handle NaN values\n",
    "population = AustinZipCo_df[\"Percent Population\"].astype(float)"
   ]
  },
  {
   "cell_type": "code",
   "execution_count": 70,
   "metadata": {},
   "outputs": [
    {
     "data": {
      "application/vnd.jupyter.widget-view+json": {
       "model_id": "110d06a1c3e143eea41d0afbcfce5e4d",
       "version_major": 2,
       "version_minor": 0
      },
      "text/plain": [
       "Figure(layout=FigureLayout(border='1px solid black', height='1000px', padding='1px', width='1000px'))"
      ]
     },
     "metadata": {},
     "output_type": "display_data"
    }
   ],
   "source": [
    "fig4 = gmaps.figure(layout=figure_layout)\n",
    "population_layer = gmaps.heatmap_layer(locations, weights=population, \n",
    "                                 dissipating=False, max_intensity=6,\n",
    "                                 point_radius = 0.05)\n",
    "\n",
    "fig4.add_layer(population_layer)\n",
    "\n",
    "fig4"
   ]
  },
  {
   "cell_type": "code",
   "execution_count": 53,
   "metadata": {},
   "outputs": [
    {
     "name": "stdout",
     "output_type": "stream",
     "text": [
      "Help on function figure in module gmaps.figure:\n",
      "\n",
      "figure(display_toolbar=True, display_errors=True, zoom_level=None, tilt=45, center=None, layout=None, map_type='ROADMAP', mouse_handling='COOPERATIVE')\n",
      "    Create a gmaps figure\n",
      "    \n",
      "    This returns a `Figure` object to which you can add data layers.\n",
      "    \n",
      "    :param display_toolbar:\n",
      "        Boolean denoting whether to show the toolbar. Defaults to True.\n",
      "    :type display_toolbar: boolean, optional\n",
      "    \n",
      "    :param display_errors:\n",
      "        Boolean denoting whether to show errors that arise in the client.\n",
      "        Defaults to True.\n",
      "    :type display_errors: boolean, optional\n",
      "    \n",
      "    :param zoom_level:\n",
      "        Integer between 0 and 21 indicating the initial zoom level.\n",
      "        High values are more zoomed in.\n",
      "        By default, the zoom level is chosen to fit the data passed to the\n",
      "        map. If specified, you must also specify the map center.\n",
      "    :type zoom_level: int, optional\n",
      "    \n",
      "    :param tilt:\n",
      "        Tilt can be either 0 or 45 indicating the tilt angle in\n",
      "        degrees.  45-degree imagery is only available for satellite\n",
      "        and hybrid map types, and is not available at every location\n",
      "        at every zoom level. For locations where 45-degree imagery is\n",
      "        not available, Google Maps will automatically fall back to 0\n",
      "        tilt.\n",
      "    :type tilt: int, optional\n",
      "    \n",
      "    :param center:\n",
      "        Latitude-longitude pair determining the map center.\n",
      "        By default, the map center is chosen to fit the data passed to the\n",
      "        map. If specified, you must also specify the zoom level.\n",
      "    :type center: tuple, optional\n",
      "    \n",
      "    :param map_type:\n",
      "        String representing the type of map to show. One of 'ROADMAP' (the\n",
      "        classic Google Maps style) 'SATELLITE' (just satellite tiles with no\n",
      "        overlay), 'HYBRID' (satellite base tiles but with features such as\n",
      "        roads and cities overlaid) and 'TERRAIN' (map showing terrain\n",
      "        features). Defaults to 'ROADMAP'.\n",
      "    :type map_type: str, optional\n",
      "    \n",
      "    :param mouse_handling:\n",
      "        String representing how the map captures the page's mouse event. One of\n",
      "        'COOPERATIVE' (scroll events scroll the page without zooming the map,\n",
      "        double clicks or CTRL/CMD+scroll zoom the map), 'GREEDY' (the map\n",
      "        captures all scroll events), 'NONE' (the map cannot be zoomed or panned\n",
      "        by user gestures) or 'AUTO' (cooperative if the notebook is displayed\n",
      "        in an iframe, greedy otherwise). Defaults to 'COOPERATIVE'.\n",
      "    :type mouse_handling: str, optional\n",
      "    \n",
      "    :param layout:\n",
      "        Control the layout of the figure, e.g. its width, height, border etc.\n",
      "        For instance, passing ``layout={'width': '400px', 'height': '300px'}``\n",
      "        will build a figure of fixed width and height.\n",
      "        For more in formation on available properties, see the ipywidgets\n",
      "        documentation on\n",
      "        `widget layout <https://ipywidgets.readthedocs.io/en/latest/examples/Widget%20Styling.html#The-layout-attribute>`_.\n",
      "    :type layout: dict, optional\n",
      "    \n",
      "    :returns:\n",
      "        A :class:`gmaps.Figure` widget.\n",
      "    \n",
      "    :Examples:\n",
      "    \n",
      "    >>> import gmaps\n",
      "    >>> gmaps.configure(api_key=\"AI...\")\n",
      "    >>> fig = gmaps.figure()\n",
      "    >>> locations = [(46.1, 5.2), (46.2, 5.3), (46.3, 5.4)]\n",
      "    >>> fig.add_layer(gmaps.heatmap_layer(locations))\n",
      "    \n",
      "    You can also explicitly specify the intiial map center and zoom:\n",
      "    \n",
      "    >>> fig = gmaps.figure(center=(46.0, -5.0), zoom_level=8)\n",
      "    \n",
      "    To customise the layout:\n",
      "    \n",
      "    >>> fig = gmaps.figure(layout={\n",
      "            'width': '400px',\n",
      "            'height': '600px',\n",
      "            'padding': '3px',\n",
      "            'border': '1px solid black'\n",
      "    })\n",
      "    \n",
      "    To have a satellite map:\n",
      "    \n",
      "    >>> fig = gmaps.figure(map_type='HYBRID')\n",
      "\n"
     ]
    }
   ],
   "source": [
    "help(gmaps.figure)"
   ]
  },
  {
   "cell_type": "code",
   "execution_count": null,
   "metadata": {},
   "outputs": [],
   "source": []
  },
  {
   "cell_type": "code",
   "execution_count": null,
   "metadata": {},
   "outputs": [],
   "source": []
  }
 ],
 "metadata": {
  "kernelspec": {
   "display_name": "Python(projectOne)",
   "language": "python",
   "name": "projectone"
  },
  "language_info": {
   "codemirror_mode": {
    "name": "ipython",
    "version": 3
   },
   "file_extension": ".py",
   "mimetype": "text/x-python",
   "name": "python",
   "nbconvert_exporter": "python",
   "pygments_lexer": "ipython3",
   "version": "3.6.7"
  }
 },
 "nbformat": 4,
 "nbformat_minor": 2
}
